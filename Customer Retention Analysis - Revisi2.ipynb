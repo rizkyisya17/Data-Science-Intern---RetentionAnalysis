{
 "cells": [
  {
   "cell_type": "code",
   "execution_count": null,
   "metadata": {},
   "outputs": [],
   "source": [
    "import numpy as np\n",
    "import pandas as pd\n",
    "import seaborn as sns\n",
    "import matplotlib.pyplot as plt\n",
    "from functools import reduce"
   ]
  },
  {
   "cell_type": "code",
   "execution_count": null,
   "metadata": {},
   "outputs": [],
   "source": [
    "df_process = pd.read_csv('dataset_RetentionProcess_2.csv')\n",
    "df_process.head()"
   ]
  },
  {
   "attachments": {},
   "cell_type": "markdown",
   "metadata": {},
   "source": [
    "# Donatur Transaksi 1x pertahun"
   ]
  },
  {
   "cell_type": "code",
   "execution_count": null,
   "metadata": {},
   "outputs": [],
   "source": [
    "transaksi_1x_pertahun = df_process[df_process['donasi_tahunini']==1].groupby('tahun')['donatur_id'].nunique().reset_index()\n",
    "transaksi_1x_pertahun.columns = transaksi_1x_pertahun.columns.str.replace('donatur_id', 'transaksi_1x')\n",
    "transaksi_1x_pertahun['retention(%)'] = np.round(transaksi_1x_pertahun['transaksi_1x'].pct_change()*100,2)\n",
    "transaksi_1x_pertahun\n"
   ]
  },
  {
   "cell_type": "code",
   "execution_count": null,
   "metadata": {},
   "outputs": [],
   "source": [
    "df_process[df_process['donasi_tahunini']==1]['donatur_id'].nunique()"
   ]
  },
  {
   "cell_type": "code",
   "execution_count": null,
   "metadata": {},
   "outputs": [],
   "source": [
    "print (\"{:.2%}\".format(df_process[df_process['donasi_tahunini']==1]['donatur_id'].nunique()/df_process['donatur_id'].nunique()))"
   ]
  },
  {
   "cell_type": "code",
   "execution_count": null,
   "metadata": {},
   "outputs": [],
   "source": [
    "def highlight_row1(row): \n",
    "    if row['retention(%)'] > 100: \n",
    "        return ['background-color: green']*len(row) \n",
    "    elif row['retention(%)'] < -40: \n",
    "        return ['background-color: red']*len(row)\n",
    "    else:\n",
    "        return ['background-color: black']*len(row)"
   ]
  },
  {
   "cell_type": "code",
   "execution_count": null,
   "metadata": {},
   "outputs": [],
   "source": [
    "transaksi_1x_perbulan = df_process[df_process['donasi_tahunini']==1].groupby(['tahun','bulan'])['donatur_id'].nunique().reset_index()\n",
    "transaksi_1x_perbulan.columns = transaksi_1x_perbulan.columns.str.replace('donatur_id', 'transaksi_1x')\n",
    "transaksi_1x_perbulan['retention(%)'] = np.round(transaksi_1x_perbulan['transaksi_1x'].pct_change()*100,2)\n",
    "display(transaksi_1x_perbulan[transaksi_1x_perbulan['tahun']==2019].style.apply(highlight_row1, axis=1))\n",
    "display(transaksi_1x_perbulan[transaksi_1x_perbulan['tahun']==2020].style.apply(highlight_row1, axis=1))\n",
    "display(transaksi_1x_perbulan[transaksi_1x_perbulan['tahun']==2021].style.apply(highlight_row1, axis=1))\n",
    "display(transaksi_1x_perbulan[transaksi_1x_perbulan['tahun']==2022].style.apply(highlight_row1, axis=1))\n",
    "display(transaksi_1x_perbulan[transaksi_1x_perbulan['tahun']==2023].style.apply(highlight_row1, axis=1))"
   ]
  },
  {
   "cell_type": "code",
   "execution_count": null,
   "metadata": {},
   "outputs": [],
   "source": [
    "transaksi_1x_perbulan.sort_values(by='retention(%)',ascending=False).iloc[:5].style.apply(highlight_row1, axis=1)"
   ]
  },
  {
   "cell_type": "code",
   "execution_count": null,
   "metadata": {},
   "outputs": [],
   "source": [
    "transaksi_1x_perbulan.sort_values(by='retention(%)').iloc[:5].style.apply(highlight_row1, axis=1)"
   ]
  },
  {
   "attachments": {},
   "cell_type": "markdown",
   "metadata": {},
   "source": [
    "# Donatur Transaksi 2x pertahun"
   ]
  },
  {
   "cell_type": "code",
   "execution_count": null,
   "metadata": {},
   "outputs": [],
   "source": [
    "transaksi_2x_pertahun = df_process[df_process['donasi_tahunini']==2].groupby('tahun')['donatur_id'].nunique().reset_index()\n",
    "transaksi_2x_pertahun.columns = transaksi_2x_pertahun.columns.str.replace('donatur_id', 'transaksi_2x')\n",
    "transaksi_2x_pertahun"
   ]
  },
  {
   "cell_type": "code",
   "execution_count": null,
   "metadata": {},
   "outputs": [],
   "source": [
    "transaksi_2x_pertahun['retention(%)'] = np.round(transaksi_2x_pertahun['transaksi_2x'].pct_change()*100,2)\n",
    "transaksi_2x_pertahun"
   ]
  },
  {
   "cell_type": "code",
   "execution_count": null,
   "metadata": {},
   "outputs": [],
   "source": [
    "df_process[df_process['donasi_tahunini']==2]['donatur_id'].nunique()"
   ]
  },
  {
   "cell_type": "code",
   "execution_count": null,
   "metadata": {},
   "outputs": [],
   "source": [
    "print (\"{:.2%}\".format(df_process[df_process['donasi_tahunini']==2]['donatur_id'].nunique()/df_process['donatur_id'].nunique()))"
   ]
  },
  {
   "cell_type": "code",
   "execution_count": null,
   "metadata": {},
   "outputs": [],
   "source": [
    "def highlight_row2(row): \n",
    "    if row['retention(%)'] > 90: \n",
    "        return ['background-color: green']*len(row) \n",
    "    elif row['retention(%)'] < -40: \n",
    "        return ['background-color: red']*len(row)\n",
    "    else:\n",
    "        return ['background-color: black']*len(row)"
   ]
  },
  {
   "cell_type": "code",
   "execution_count": null,
   "metadata": {},
   "outputs": [],
   "source": [
    "transaksi_2x_perbulan = df_process[df_process['donasi_tahunini']==2].groupby(['tahun','bulan'])['donatur_id'].nunique().reset_index()\n",
    "transaksi_2x_perbulan.columns = transaksi_2x_perbulan.columns.str.replace('donatur_id', 'transaksi_2x')\n",
    "transaksi_2x_perbulan['retention(%)'] = np.round(transaksi_2x_perbulan['transaksi_2x'].pct_change()*100,2)\n",
    "display(transaksi_2x_perbulan[transaksi_2x_perbulan['tahun']==2019].style.apply(highlight_row2, axis=1))\n",
    "display(transaksi_2x_perbulan[transaksi_2x_perbulan['tahun']==2020].style.apply(highlight_row2, axis=1))\n",
    "display(transaksi_2x_perbulan[transaksi_2x_perbulan['tahun']==2021].style.apply(highlight_row2, axis=1))\n",
    "display(transaksi_2x_perbulan[transaksi_2x_perbulan['tahun']==2022].style.apply(highlight_row2, axis=1))\n",
    "display(transaksi_2x_perbulan[transaksi_2x_perbulan['tahun']==2023].style.apply(highlight_row2, axis=1))"
   ]
  },
  {
   "cell_type": "code",
   "execution_count": null,
   "metadata": {},
   "outputs": [],
   "source": [
    "transaksi_2x_perbulan.sort_values(by='retention(%)',ascending=False).iloc[:5].style.apply(highlight_row2, axis=1)"
   ]
  },
  {
   "cell_type": "code",
   "execution_count": null,
   "metadata": {},
   "outputs": [],
   "source": [
    "transaksi_2x_perbulan.sort_values(by='retention(%)').iloc[:5].style.apply(highlight_row2, axis=1)"
   ]
  },
  {
   "attachments": {},
   "cell_type": "markdown",
   "metadata": {},
   "source": [
    "# Donatur Transaksi 3x-11x pertahun"
   ]
  },
  {
   "cell_type": "code",
   "execution_count": null,
   "metadata": {},
   "outputs": [],
   "source": [
    "transaksi_3x12x_pertahun = df_process[(df_process['donasi_tahunini']>=3) & (df_process['donasi_tahunini']<=11)].groupby('tahun')['donatur_id'].nunique().reset_index()\n",
    "transaksi_3x12x_pertahun.columns = transaksi_3x12x_pertahun.columns.str.replace('donatur_id', 'transaksi_3x12x')\n",
    "transaksi_3x12x_pertahun"
   ]
  },
  {
   "cell_type": "code",
   "execution_count": null,
   "metadata": {},
   "outputs": [],
   "source": [
    "transaksi_3x12x_pertahun['retention(%)'] = np.round(transaksi_3x12x_pertahun['transaksi_3x12x'].pct_change()*100,2)\n",
    "transaksi_3x12x_pertahun"
   ]
  },
  {
   "cell_type": "code",
   "execution_count": null,
   "metadata": {},
   "outputs": [],
   "source": [
    "df_process[(df_process['donasi_tahunini']>=3) & (df_process['donasi_tahunini']<=11)]['donatur_id'].nunique()"
   ]
  },
  {
   "cell_type": "code",
   "execution_count": null,
   "metadata": {},
   "outputs": [],
   "source": [
    "print (\"{:.2%}\".format(df_process[(df_process['donasi_tahunini']>=3) & (df_process['donasi_tahunini']<=11)]['donatur_id'].nunique()/df_process['donatur_id'].nunique()))"
   ]
  },
  {
   "cell_type": "code",
   "execution_count": null,
   "metadata": {},
   "outputs": [],
   "source": [
    "def highlight_row3(row): \n",
    "    if row['retention(%)'] > 40: \n",
    "        return ['background-color: green']*len(row) \n",
    "    elif row['retention(%)'] < -35: \n",
    "        return ['background-color: red']*len(row)\n",
    "    else:\n",
    "        return ['background-color: black']*len(row)"
   ]
  },
  {
   "cell_type": "code",
   "execution_count": null,
   "metadata": {},
   "outputs": [],
   "source": [
    "transaksi_3x12x_perbulan = df_process[(df_process['donasi_tahunini']>=3) & (df_process['donasi_tahunini']<12)].groupby(['tahun','bulan'])['donatur_id'].nunique().reset_index()\n",
    "transaksi_3x12x_perbulan.columns = transaksi_3x12x_perbulan.columns.str.replace('donatur_id', 'transaksi_3x12x')\n",
    "transaksi_3x12x_perbulan['retention(%)'] = np.round(transaksi_3x12x_perbulan['transaksi_3x12x'].pct_change()*100,2)\n",
    "display(transaksi_3x12x_perbulan[transaksi_3x12x_perbulan['tahun']==2019].style.apply(highlight_row3, axis=1))\n",
    "display(transaksi_3x12x_perbulan[transaksi_3x12x_perbulan['tahun']==2020].style.apply(highlight_row3, axis=1))\n",
    "display(transaksi_3x12x_perbulan[transaksi_3x12x_perbulan['tahun']==2021].style.apply(highlight_row3, axis=1))\n",
    "display(transaksi_3x12x_perbulan[transaksi_3x12x_perbulan['tahun']==2022].style.apply(highlight_row3, axis=1))\n",
    "display(transaksi_3x12x_perbulan[transaksi_3x12x_perbulan['tahun']==2023].style.apply(highlight_row3, axis=1))"
   ]
  },
  {
   "cell_type": "code",
   "execution_count": null,
   "metadata": {},
   "outputs": [],
   "source": [
    "transaksi_3x12x_perbulan.sort_values(by='retention(%)',ascending=False).iloc[:5].style.apply(highlight_row3, axis=1)"
   ]
  },
  {
   "cell_type": "code",
   "execution_count": null,
   "metadata": {},
   "outputs": [],
   "source": [
    "transaksi_3x12x_perbulan.sort_values(by='retention(%)').iloc[:5].style.apply(highlight_row3, axis=1)"
   ]
  },
  {
   "attachments": {},
   "cell_type": "markdown",
   "metadata": {},
   "source": [
    "# Donatur Transaksi >= 12x pertahun"
   ]
  },
  {
   "cell_type": "code",
   "execution_count": null,
   "metadata": {},
   "outputs": [],
   "source": [
    "transaksi_12x_pertahun = df_process[df_process['donasi_tahunini']>=12].groupby('tahun')['donatur_id'].nunique().reset_index()\n",
    "transaksi_12x_pertahun.columns = transaksi_12x_pertahun.columns.str.replace('donatur_id', 'transaksi_12x')\n",
    "transaksi_12x_pertahun"
   ]
  },
  {
   "cell_type": "code",
   "execution_count": null,
   "metadata": {},
   "outputs": [],
   "source": [
    "transaksi_12x_pertahun['retention(%)'] = np.round(transaksi_12x_pertahun['transaksi_12x'].pct_change()*100,2)\n",
    "transaksi_12x_pertahun"
   ]
  },
  {
   "cell_type": "code",
   "execution_count": null,
   "metadata": {},
   "outputs": [],
   "source": [
    "df_process[df_process['donasi_tahunini']>=12]['donatur_id'].nunique()"
   ]
  },
  {
   "cell_type": "code",
   "execution_count": null,
   "metadata": {},
   "outputs": [],
   "source": [
    "print (\"{:.2%}\".format(df_process[df_process['donasi_tahunini']>=12]['donatur_id'].nunique()/df_process['donatur_id'].nunique()))"
   ]
  },
  {
   "cell_type": "code",
   "execution_count": null,
   "metadata": {},
   "outputs": [],
   "source": [
    "def highlight_row4(row): \n",
    "    if row['retention(%)'] > 20: \n",
    "        return ['background-color: green']*len(row) \n",
    "    elif row['retention(%)'] < -10: \n",
    "        return ['background-color: red']*len(row)\n",
    "    else:\n",
    "        return ['background-color: black']*len(row)"
   ]
  },
  {
   "cell_type": "code",
   "execution_count": null,
   "metadata": {},
   "outputs": [],
   "source": [
    "transaksi_12x_perbulan = df_process[df_process['donasi_tahunini']>=12].groupby(['tahun','bulan'])['donatur_id'].nunique().reset_index()\n",
    "transaksi_12x_perbulan.columns = transaksi_12x_perbulan.columns.str.replace('donatur_id', 'transaksi_12x')\n",
    "transaksi_12x_perbulan['retention(%)'] = np.round(transaksi_12x_perbulan['transaksi_12x'].pct_change()*100,2)\n",
    "display(transaksi_12x_perbulan[transaksi_3x12x_perbulan['tahun']==2019].style.apply(highlight_row4, axis=1))\n",
    "display(transaksi_12x_perbulan[transaksi_3x12x_perbulan['tahun']==2020].style.apply(highlight_row4, axis=1))\n",
    "display(transaksi_12x_perbulan[transaksi_3x12x_perbulan['tahun']==2021].style.apply(highlight_row4, axis=1))\n",
    "display(transaksi_12x_perbulan[transaksi_3x12x_perbulan['tahun']==2022].style.apply(highlight_row4, axis=1))\n",
    "display(transaksi_12x_perbulan[transaksi_3x12x_perbulan['tahun']==2023].style.apply(highlight_row4, axis=1))"
   ]
  },
  {
   "cell_type": "code",
   "execution_count": null,
   "metadata": {},
   "outputs": [],
   "source": [
    "transaksi_12x_perbulan.sort_values(by='retention(%)',ascending=False).iloc[:5].style.apply(highlight_row4, axis=1)"
   ]
  },
  {
   "cell_type": "code",
   "execution_count": null,
   "metadata": {},
   "outputs": [],
   "source": [
    "transaksi_12x_perbulan.sort_values(by='retention(%)').iloc[:5].style.apply(highlight_row4, axis=1)"
   ]
  },
  {
   "attachments": {},
   "cell_type": "markdown",
   "metadata": {},
   "source": [
    "# Insights\n",
    "\n",
    "Fakta:\n",
    "1. Retention donatur meningkat drastis setiap bulan 4-5 (bulan ramadhan)\n",
    "2. Retention donatur menurun drastis setiap bulan 5-6 setelah ramadhan\n",
    "\n",
    "Insights/Recommendation:\n",
    "1. Membuat program lagi khusus untuk setelah bulan ramadhan berkaitan dengan ibadah/budaya islam seperti puasa syawal setelah ramadhan.\n",
    "2. Memulai segera program idul adha setelah bulan ramadhan."
   ]
  },
  {
   "attachments": {},
   "cell_type": "markdown",
   "metadata": {},
   "source": [
    "# Donatur Reguler"
   ]
  },
  {
   "cell_type": "code",
   "execution_count": null,
   "metadata": {},
   "outputs": [],
   "source": [
    "tahun = df_process.tahun.unique()\n",
    "d = {}\n",
    "t = {}\n",
    "for x in tahun:\n",
    "    d[\"th{0}\".format(x)] = df_process.loc[df_process['tahun']== x].copy()\n",
    "    t[\"n_donatur{0}\".format(x)] = df_process[df_process['tahun']==x]['donatur_id'].nunique()"
   ]
  },
  {
   "attachments": {},
   "cell_type": "markdown",
   "metadata": {},
   "source": [
    "## 2019-now"
   ]
  },
  {
   "cell_type": "code",
   "execution_count": null,
   "metadata": {},
   "outputs": [],
   "source": [
    "val_reguler19_2023 = reduce(np.intersect1d, (d['th2019'].donatur_id, \n",
    "                              d['th2020'].donatur_id, \n",
    "                              d['th2021'].donatur_id,\n",
    "                              d['th2022'].donatur_id,\n",
    "                              d['th2023'].donatur_id))\n",
    "val_reguler19_2022 = reduce(np.intersect1d, (d['th2019'].donatur_id, \n",
    "                              d['th2020'].donatur_id, \n",
    "                              d['th2021'].donatur_id,\n",
    "                              d['th2022'].donatur_id))\n",
    "val_reguler19_2021 = reduce(np.intersect1d, (d['th2019'].donatur_id, \n",
    "                              d['th2020'].donatur_id, \n",
    "                              d['th2021'].donatur_id))\n",
    "val_reguler19_2020 = reduce(np.intersect1d, (d['th2019'].donatur_id, \n",
    "                              d['th2020'].donatur_id))"
   ]
  },
  {
   "cell_type": "code",
   "execution_count": null,
   "metadata": {},
   "outputs": [],
   "source": [
    "# 2019\n",
    "print('donatur_reguler: {}'.format(t['n_donatur2019']))\n",
    "print('total donatur 2019: {}'.format(t['n_donatur2019']))\n",
    "print('percentage: {:.2%}'.format(t['n_donatur2019']/t['n_donatur2019']))\n"
   ]
  },
  {
   "cell_type": "code",
   "execution_count": null,
   "metadata": {},
   "outputs": [],
   "source": [
    "# 2020\n",
    "donatur_reguler19__2020 = val_reguler19_2020.size\n",
    "total_donatur19__2020 = df_process[(df_process['tahun']==2019)|\n",
    "                                (df_process['tahun']==2020)]['donatur_id'].nunique()\n",
    "print('donatur_reguler: {}'.format(donatur_reguler19__2020))\n",
    "print('total donatur 2020: {}'.format(total_donatur19__2020))\n",
    "print('percentage: {:.2%}'.format(donatur_reguler19__2020/total_donatur19__2020))"
   ]
  },
  {
   "cell_type": "code",
   "execution_count": null,
   "metadata": {},
   "outputs": [],
   "source": [
    "# 2021\n",
    "donatur_reguler19__2021 = val_reguler19_2021.size\n",
    "total_donatur19__2021 = df_process[(df_process['tahun']==2019)|\n",
    "                                (df_process['tahun']==2020)|\n",
    "                                (df_process['tahun']==2021)]['donatur_id'].nunique()\n",
    "print('donatur_reguler: {}'.format(donatur_reguler19__2021))\n",
    "print('total donatur 2021: {}'.format(total_donatur19__2021))\n",
    "print('percentage: {:.2%}'.format(donatur_reguler19__2021/total_donatur19__2021))"
   ]
  },
  {
   "cell_type": "code",
   "execution_count": null,
   "metadata": {},
   "outputs": [],
   "source": [
    "# 2022\n",
    "donatur_reguler19__2022 = val_reguler19_2022.size\n",
    "total_donatur19__2022 = df_process[(df_process['tahun']==2019)|\n",
    "                                (df_process['tahun']==2020)|\n",
    "                                (df_process['tahun']==2021)|\n",
    "                                (df_process['tahun']==2022)]['donatur_id'].nunique()\n",
    "print('donatur_reguler: {}'.format(donatur_reguler19__2022))\n",
    "print('total donatur 2022: {}'.format(total_donatur19__2022))\n",
    "print('percentage: {:.2%}'.format(donatur_reguler19__2022/total_donatur19__2022))"
   ]
  },
  {
   "cell_type": "code",
   "execution_count": null,
   "metadata": {},
   "outputs": [],
   "source": [
    "# 2023\n",
    "donatur_reguler19__2023 = val_reguler19_2023.size\n",
    "total_donatur19__2023 = df_process[(df_process['tahun']==2019)|\n",
    "                                (df_process['tahun']==2020)|\n",
    "                                (df_process['tahun']==2021)|\n",
    "                                (df_process['tahun']==2022)|\n",
    "                                (df_process['tahun']==2023)]['donatur_id'].nunique()\n",
    "print('donatur_reguler: {}'.format(donatur_reguler19__2023))\n",
    "print('total donatur 2023: {}'.format(total_donatur19__2023))\n",
    "print('percentage: {:.2%}'.format(donatur_reguler19__2023/total_donatur19__2023))"
   ]
  },
  {
   "cell_type": "code",
   "execution_count": null,
   "metadata": {},
   "outputs": [],
   "source": [
    "data = [['2019', t['n_donatur2019']], ['2020', donatur_reguler19__2020], ['2021', donatur_reguler19__2021], ['2022', donatur_reguler19__2022], ['2023', donatur_reguler19__2023]]\n",
    "df = pd.DataFrame(data, columns=['tahun', 'donatur_reguler'])\n",
    "sns.lineplot(data=df, x=\"tahun\", y=\"donatur_reguler\", marker='.', markerfacecolor='limegreen', markersize=20).set(title='Donatur Reguler 2019-now', xlabel='Tahun', ylabel='Donatur')\n"
   ]
  },
  {
   "attachments": {},
   "cell_type": "markdown",
   "metadata": {},
   "source": [
    "## 2020-now"
   ]
  },
  {
   "cell_type": "code",
   "execution_count": null,
   "metadata": {},
   "outputs": [],
   "source": [
    "val_reguler20_2023 = reduce(np.intersect1d, (d['th2020'].donatur_id, \n",
    "                              d['th2021'].donatur_id,\n",
    "                              d['th2022'].donatur_id,\n",
    "                              d['th2023'].donatur_id))\n",
    "val_reguler20_2022 = reduce(np.intersect1d, (d['th2020'].donatur_id, \n",
    "                              d['th2021'].donatur_id,\n",
    "                              d['th2022'].donatur_id))\n",
    "val_reguler20_2021 = reduce(np.intersect1d, (d['th2020'].donatur_id, \n",
    "                              d['th2021'].donatur_id))"
   ]
  },
  {
   "cell_type": "code",
   "execution_count": null,
   "metadata": {},
   "outputs": [],
   "source": [
    "# 2020\n",
    "print('donatur_reguler: {}'.format(t['n_donatur2020']))\n",
    "print('total donatur 2020: {}'.format(t['n_donatur2020']))\n",
    "print('percentage: {:.2%}'.format(t['n_donatur2020']/t['n_donatur2020']))"
   ]
  },
  {
   "cell_type": "code",
   "execution_count": null,
   "metadata": {},
   "outputs": [],
   "source": [
    "# 2021\n",
    "donatur_reguler20__2021 = val_reguler20_2021.size\n",
    "total_donatur20__2021 = df_process[(df_process['tahun']==2020)|\n",
    "                                (df_process['tahun']==2021)]['donatur_id'].nunique()\n",
    "print('donatur_reguler: {}'.format(donatur_reguler20__2021))\n",
    "print('total donatur 2021: {}'.format(total_donatur20__2021))\n",
    "print('percentage: {:.2%}'.format(donatur_reguler20__2021/total_donatur20__2021))"
   ]
  },
  {
   "cell_type": "code",
   "execution_count": null,
   "metadata": {},
   "outputs": [],
   "source": [
    "# 2022\n",
    "donatur_reguler20__2022 = val_reguler20_2022.size\n",
    "total_donatur20__2022 = df_process[(df_process['tahun']==2020)|\n",
    "                                (df_process['tahun']==2021)|\n",
    "                                (df_process['tahun']==2022)]['donatur_id'].nunique()\n",
    "print('donatur_reguler: {}'.format(donatur_reguler20__2022))\n",
    "print('total donatur 2022: {}'.format(total_donatur20__2022))\n",
    "print('percentage: {:.2%}'.format(donatur_reguler20__2022/total_donatur20__2022))"
   ]
  },
  {
   "cell_type": "code",
   "execution_count": null,
   "metadata": {},
   "outputs": [],
   "source": [
    "# 2023\n",
    "donatur_reguler20__2023 = val_reguler19_2023.size\n",
    "total_donatur20__2023 = df_process[(df_process['tahun']==2020)|\n",
    "                                (df_process['tahun']==2021)|\n",
    "                                (df_process['tahun']==2022)|\n",
    "                                (df_process['tahun']==2023)]['donatur_id'].nunique()\n",
    "print('donatur_reguler: {}'.format(donatur_reguler20__2023))\n",
    "print('total donatur 2023: {}'.format(total_donatur20__2023))\n",
    "print('percentage: {:.2%}'.format(donatur_reguler20__2023/total_donatur20__2023))"
   ]
  },
  {
   "cell_type": "code",
   "execution_count": null,
   "metadata": {},
   "outputs": [],
   "source": [
    "data = [['2020', t['n_donatur2020']], ['2021', donatur_reguler20__2021], ['2022', donatur_reguler20__2022], ['2023', donatur_reguler20__2023]]\n",
    "df = pd.DataFrame(data, columns=['tahun', 'donatur_reguler'])\n",
    "sns.lineplot(data=df, x=\"tahun\", y=\"donatur_reguler\", marker='.', markerfacecolor='limegreen', markersize=20).set(title='Donatur Reguler 2019-now', xlabel='Tahun', ylabel='Donatur')"
   ]
  },
  {
   "attachments": {},
   "cell_type": "markdown",
   "metadata": {},
   "source": [
    "## 2021-now"
   ]
  },
  {
   "cell_type": "code",
   "execution_count": null,
   "metadata": {},
   "outputs": [],
   "source": [
    "val_reguler21_2023 = reduce(np.intersect1d, (d['th2021'].donatur_id,\n",
    "                              d['th2022'].donatur_id,\n",
    "                              d['th2023'].donatur_id))\n",
    "val_reguler21_2022 = reduce(np.intersect1d, (d['th2021'].donatur_id,\n",
    "                              d['th2022'].donatur_id))"
   ]
  },
  {
   "cell_type": "code",
   "execution_count": null,
   "metadata": {},
   "outputs": [],
   "source": [
    "# 2021\n",
    "print('donatur_reguler: {}'.format(t['n_donatur2021']))\n",
    "print('total donatur 2021: {}'.format(t['n_donatur2021']))\n",
    "print('percentage: {:.2%}'.format(t['n_donatur2021']/t['n_donatur2021']))"
   ]
  },
  {
   "cell_type": "code",
   "execution_count": null,
   "metadata": {},
   "outputs": [],
   "source": [
    "# 2022\n",
    "donatur_reguler21__2022 = val_reguler21_2022.size\n",
    "total_donatur21__2022 = df_process[(df_process['tahun']==2021)|\n",
    "                                (df_process['tahun']==2022)]['donatur_id'].nunique()\n",
    "print('donatur_reguler: {}'.format(donatur_reguler21__2022))\n",
    "print('total donatur 2022: {}'.format(total_donatur21__2022))\n",
    "print('percentage: {:.2%}'.format(donatur_reguler21__2022/total_donatur21__2022))"
   ]
  },
  {
   "cell_type": "code",
   "execution_count": null,
   "metadata": {},
   "outputs": [],
   "source": [
    "# 2023\n",
    "donatur_reguler21__2023 = val_reguler21_2023.size\n",
    "total_donatur21__2023 = df_process[(df_process['tahun']==2021)|\n",
    "                                (df_process['tahun']==2022)|\n",
    "                                (df_process['tahun']==2023)]['donatur_id'].nunique()\n",
    "print('donatur_reguler: {}'.format(donatur_reguler21__2023))\n",
    "print('total donatur 2023: {}'.format(total_donatur21__2023))\n",
    "print('percentage: {:.2%}'.format(donatur_reguler21__2023/total_donatur21__2023))"
   ]
  },
  {
   "cell_type": "code",
   "execution_count": null,
   "metadata": {},
   "outputs": [],
   "source": [
    "data = [['2021', t['n_donatur2021']], ['2022', donatur_reguler21__2022], ['2023', donatur_reguler21__2023]]\n",
    "df = pd.DataFrame(data, columns=['tahun', 'donatur_reguler'])\n",
    "sns.lineplot(data=df, x=\"tahun\", y=\"donatur_reguler\", marker='.', markerfacecolor='limegreen', markersize=20).set(title='Donatur Reguler 2019-now', xlabel='Tahun', ylabel='Donatur')"
   ]
  },
  {
   "attachments": {},
   "cell_type": "markdown",
   "metadata": {},
   "source": [
    "## 2022-now"
   ]
  },
  {
   "cell_type": "code",
   "execution_count": null,
   "metadata": {},
   "outputs": [],
   "source": [
    "val_reguler22_2023 = reduce(np.intersect1d, (d['th2022'].donatur_id,\n",
    "                              d['th2023'].donatur_id))"
   ]
  },
  {
   "cell_type": "code",
   "execution_count": null,
   "metadata": {},
   "outputs": [],
   "source": [
    "# 2022\n",
    "print('donatur_reguler: {}'.format(t['n_donatur2022']))\n",
    "print('total donatur 2022: {}'.format(t['n_donatur2022']))\n",
    "print('percentage: {:.2%}'.format(t['n_donatur2022']/t['n_donatur2022']))"
   ]
  },
  {
   "cell_type": "code",
   "execution_count": null,
   "metadata": {},
   "outputs": [],
   "source": [
    "# 2023\n",
    "donatur_reguler22__2023 = val_reguler21_2023.size\n",
    "total_donatur22__2023 = df_process[(df_process['tahun']==2022)|\n",
    "                                (df_process['tahun']==2023)]['donatur_id'].nunique()\n",
    "print('donatur_reguler: {}'.format(donatur_reguler22__2023))\n",
    "print('total donatur 2023: {}'.format(total_donatur22__2023))\n",
    "print('percentage: {:.2%}'.format(donatur_reguler22__2023/total_donatur22__2023))"
   ]
  },
  {
   "cell_type": "code",
   "execution_count": null,
   "metadata": {},
   "outputs": [],
   "source": [
    "data = [['2022', t['n_donatur2022']], ['2023', donatur_reguler22__2023]]\n",
    "df = pd.DataFrame(data, columns=['tahun', 'donatur_reguler'])\n",
    "sns.lineplot(data=df, x=\"tahun\", y=\"donatur_reguler\", marker='.', markerfacecolor='limegreen', markersize=20).set(title='Donatur Reguler 2019-now', xlabel='Tahun', ylabel='Donatur')"
   ]
  }
 ],
 "metadata": {
  "kernelspec": {
   "display_name": "python3.8-datascience",
   "language": "python",
   "name": "python3"
  },
  "language_info": {
   "codemirror_mode": {
    "name": "ipython",
    "version": 3
   },
   "file_extension": ".py",
   "mimetype": "text/x-python",
   "name": "python",
   "nbconvert_exporter": "python",
   "pygments_lexer": "ipython3",
   "version": "3.8.16"
  },
  "orig_nbformat": 4
 },
 "nbformat": 4,
 "nbformat_minor": 2
}
