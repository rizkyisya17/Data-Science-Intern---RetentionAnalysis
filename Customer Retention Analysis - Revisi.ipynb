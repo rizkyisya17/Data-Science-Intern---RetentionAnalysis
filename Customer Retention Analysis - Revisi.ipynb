{
 "cells": [
  {
   "cell_type": "code",
   "execution_count": null,
   "metadata": {},
   "outputs": [],
   "source": [
    "import numpy as np\n",
    "import pandas as pd\n",
    "import seaborn as sns\n",
    "import matplotlib.pyplot as plt\n",
    "from functools import reduce"
   ]
  },
  {
   "attachments": {},
   "cell_type": "markdown",
   "metadata": {},
   "source": [
    "# Data Collection and Exploration"
   ]
  },
  {
   "cell_type": "code",
   "execution_count": null,
   "metadata": {},
   "outputs": [],
   "source": [
    "df = pd.read_csv(\"data-set-digital-skola-batc-10-Mizan-Amanah.xlsx - all dataset.csv\")\n",
    "df.head()"
   ]
  },
  {
   "cell_type": "code",
   "execution_count": null,
   "metadata": {},
   "outputs": [],
   "source": [
    "# about data\n",
    "df.info()"
   ]
  },
  {
   "cell_type": "code",
   "execution_count": null,
   "metadata": {},
   "outputs": [],
   "source": [
    "# data summary\n",
    "df.describe()"
   ]
  },
  {
   "cell_type": "code",
   "execution_count": null,
   "metadata": {},
   "outputs": [],
   "source": [
    "# data unique\n",
    "df.nunique()"
   ]
  },
  {
   "attachments": {},
   "cell_type": "markdown",
   "metadata": {},
   "source": [
    "## 'status_transaksi'"
   ]
  },
  {
   "cell_type": "code",
   "execution_count": null,
   "metadata": {},
   "outputs": [],
   "source": [
    "# pesebaran jumlah data untuk 'status_transaksi'\n",
    "sns.countplot(x ='status_transaksi', data = df)"
   ]
  },
  {
   "attachments": {},
   "cell_type": "markdown",
   "metadata": {},
   "source": [
    "## 'status_transaksi' dan 'donatur_id'"
   ]
  },
  {
   "cell_type": "code",
   "execution_count": null,
   "metadata": {},
   "outputs": [],
   "source": [
    "# donatur_id untuk setiap jenis transaksi\n",
    "df.groupby(['status_transaksi'])['donatur_id'].nunique()"
   ]
  },
  {
   "cell_type": "code",
   "execution_count": null,
   "metadata": {},
   "outputs": [],
   "source": [
    "df[df['status_transaksi'] == 'success'].groupby(['status_transaksi'])['donatur_id'].nunique().sum()"
   ]
  },
  {
   "cell_type": "code",
   "execution_count": null,
   "metadata": {},
   "outputs": [],
   "source": [
    "df[df['status_transaksi'] != 'success'].groupby(['status_transaksi'])['donatur_id'].nunique().sum()"
   ]
  },
  {
   "cell_type": "code",
   "execution_count": null,
   "metadata": {},
   "outputs": [],
   "source": [
    "df['donatur_id'].nunique()"
   ]
  },
  {
   "attachments": {},
   "cell_type": "markdown",
   "metadata": {},
   "source": [
    "## 'tipe_transaksi'"
   ]
  },
  {
   "cell_type": "code",
   "execution_count": null,
   "metadata": {},
   "outputs": [],
   "source": [
    "# pesebaran jumlah data untuk 'tipe_transaksi'\n",
    "sns.countplot(x ='tipe_transaksi', data = df)"
   ]
  },
  {
   "cell_type": "code",
   "execution_count": null,
   "metadata": {},
   "outputs": [],
   "source": [
    "tipe_transaksi = df.groupby('tipe_transaksi')['donasi_id'].count()\n",
    "tipe_transaksi.plot(kind='pie',autopct='%.0f%%')"
   ]
  },
  {
   "attachments": {},
   "cell_type": "markdown",
   "metadata": {},
   "source": [
    "## 'tipe_transaksi' dan 'payment_method'"
   ]
  },
  {
   "cell_type": "code",
   "execution_count": null,
   "metadata": {},
   "outputs": [],
   "source": [
    "df[df['tipe_transaksi'] == 'Offline'].groupby('payment_method')['donasi_id'].count().reset_index().sort_values(by='donasi_id', ascending=False)"
   ]
  },
  {
   "cell_type": "code",
   "execution_count": null,
   "metadata": {},
   "outputs": [],
   "source": [
    "df[df['tipe_transaksi'] == 'Online'].groupby('payment_method')['donasi_id'].count().reset_index().sort_values(by='donasi_id', ascending=False)"
   ]
  },
  {
   "attachments": {},
   "cell_type": "markdown",
   "metadata": {},
   "source": [
    "## 'platform'"
   ]
  },
  {
   "cell_type": "code",
   "execution_count": null,
   "metadata": {},
   "outputs": [],
   "source": [
    "df[df['tipe_transaksi'] == 'Online'].groupby('platform')['donasi_id'].count().reset_index().sort_values(by='donasi_id', ascending=False)"
   ]
  },
  {
   "cell_type": "code",
   "execution_count": null,
   "metadata": {},
   "outputs": [],
   "source": [
    "# pesebaran jumlah data untuk 'platform'\n",
    "ax = sns.countplot(x ='platform', data = df)\n",
    "_ = ax.set_xticklabels(ax.get_xticklabels(), rotation=40, ha=\"right\")"
   ]
  },
  {
   "attachments": {},
   "cell_type": "markdown",
   "metadata": {},
   "source": [
    "## Check Missing Value"
   ]
  },
  {
   "cell_type": "code",
   "execution_count": null,
   "metadata": {},
   "outputs": [],
   "source": [
    "df.isnull().sum()"
   ]
  },
  {
   "attachments": {},
   "cell_type": "markdown",
   "metadata": {},
   "source": [
    "### 'program'"
   ]
  },
  {
   "cell_type": "code",
   "execution_count": null,
   "metadata": {},
   "outputs": [],
   "source": [
    "df_programNaN = df[df['program'].isna()]\n",
    "df_programNaN.mode().loc[0]"
   ]
  },
  {
   "cell_type": "code",
   "execution_count": null,
   "metadata": {},
   "outputs": [],
   "source": [
    "df[df['akad'] == 'Ekonomi'].mode().loc[0]"
   ]
  },
  {
   "cell_type": "code",
   "execution_count": null,
   "metadata": {},
   "outputs": [],
   "source": [
    "df[df['program']=='Paket Sembako untuk Terdampak COVID']"
   ]
  },
  {
   "cell_type": "code",
   "execution_count": null,
   "metadata": {},
   "outputs": [],
   "source": [
    "df_programNaN[['tgl_donasi']].agg(['min','max'])"
   ]
  },
  {
   "attachments": {},
   "cell_type": "markdown",
   "metadata": {},
   "source": [
    "### 'payment_method'"
   ]
  },
  {
   "cell_type": "code",
   "execution_count": null,
   "metadata": {},
   "outputs": [],
   "source": [
    "df_paymentNaN = df[df['payment_method'].isna()]\n",
    "df_paymentNaN.mode().loc[0]"
   ]
  },
  {
   "cell_type": "code",
   "execution_count": null,
   "metadata": {},
   "outputs": [],
   "source": [
    "df_paymentNaN.groupby('platform').size()"
   ]
  },
  {
   "cell_type": "code",
   "execution_count": null,
   "metadata": {},
   "outputs": [],
   "source": [
    "df[df['platform'].isin(['Web', 'Web Mobile'])]['payment_method'].mode().loc[0]"
   ]
  },
  {
   "cell_type": "code",
   "execution_count": null,
   "metadata": {},
   "outputs": [],
   "source": [
    "df[df['program']=='Zakat Penghasilan'].groupby(['payment_method']).size().sort_values(ascending=False)"
   ]
  },
  {
   "attachments": {},
   "cell_type": "markdown",
   "metadata": {},
   "source": [
    "## Check Duplicate"
   ]
  },
  {
   "cell_type": "code",
   "execution_count": null,
   "metadata": {},
   "outputs": [],
   "source": [
    "df[df.duplicated(keep=False)]"
   ]
  },
  {
   "attachments": {},
   "cell_type": "markdown",
   "metadata": {},
   "source": [
    "# Data Preprocessing"
   ]
  },
  {
   "attachments": {},
   "cell_type": "markdown",
   "metadata": {},
   "source": [
    "## Rename"
   ]
  },
  {
   "attachments": {},
   "cell_type": "markdown",
   "metadata": {},
   "source": [
    "### Rename value 'status_transaksi'"
   ]
  },
  {
   "cell_type": "code",
   "execution_count": null,
   "metadata": {},
   "outputs": [],
   "source": [
    "df['status_transaksi'] = df['status_transaksi'].replace(['Pending', 'FAILED'], ['pending','failed'])\n",
    "status_transaksi = df.groupby('status_transaksi')['donasi_id'].count()\n",
    "status_transaksi.plot(kind='pie',autopct='%.0f%%')"
   ]
  },
  {
   "attachments": {},
   "cell_type": "markdown",
   "metadata": {},
   "source": [
    "### Rename value 'platform'"
   ]
  },
  {
   "cell_type": "code",
   "execution_count": null,
   "metadata": {},
   "outputs": [],
   "source": [
    "df['platform'] = df['platform'].replace(['ANDROID'], ['Android'])\n",
    "df['platform'] = df['platform'].replace(['WEB','web'], 'Web')\n",
    "sns.countplot(y ='platform', \n",
    "                data = df,\n",
    "                order = df['platform'].value_counts().index)"
   ]
  },
  {
   "attachments": {},
   "cell_type": "markdown",
   "metadata": {},
   "source": [
    "## Fill Missing Value"
   ]
  },
  {
   "cell_type": "code",
   "execution_count": null,
   "metadata": {},
   "outputs": [],
   "source": [
    "df['program'].fillna('Unknown',inplace=True)\n",
    "df['payment_method'].fillna('bank_transfer',inplace=True)\n",
    "df.isnull().sum()"
   ]
  },
  {
   "attachments": {},
   "cell_type": "markdown",
   "metadata": {},
   "source": [
    "## Anomali"
   ]
  },
  {
   "attachments": {},
   "cell_type": "markdown",
   "metadata": {},
   "source": [
    "### Nominal dengan koma"
   ]
  },
  {
   "cell_type": "code",
   "execution_count": null,
   "metadata": {},
   "outputs": [],
   "source": [
    "df_anomali1 = df[df['nominal'].str.contains(\",\" , na=False)]\n",
    "df_anomali1"
   ]
  },
  {
   "cell_type": "code",
   "execution_count": null,
   "metadata": {},
   "outputs": [],
   "source": [
    "df = df[~df.isin(df_anomali1)].dropna()"
   ]
  },
  {
   "attachments": {},
   "cell_type": "markdown",
   "metadata": {},
   "source": [
    "### Nominal kurang dari 3 digit"
   ]
  },
  {
   "cell_type": "code",
   "execution_count": null,
   "metadata": {},
   "outputs": [],
   "source": [
    "df_anomali2 = df.copy()\n",
    "df_anomali2[\"nominal_length\"]= df_anomali2[\"nominal\"].astype(str).str.len()\n",
    "an2 = df_anomali2[df_anomali2[\"nominal_length\"] < 3]\n",
    "an2"
   ]
  },
  {
   "cell_type": "code",
   "execution_count": null,
   "metadata": {},
   "outputs": [],
   "source": [
    "df = df[~df.isin(an2)].dropna()"
   ]
  },
  {
   "attachments": {},
   "cell_type": "markdown",
   "metadata": {},
   "source": [
    "### Nominal tidak wajar"
   ]
  },
  {
   "cell_type": "code",
   "execution_count": null,
   "metadata": {},
   "outputs": [],
   "source": [
    "df_anomali3 = df.copy()\n",
    "df_anomali3[\"nominal_length\"]= df_anomali3[\"nominal\"].astype(str).str.len()\n",
    "an3 = df_anomali3[df_anomali3[\"nominal_length\"] >= 10]\n",
    "an3"
   ]
  },
  {
   "cell_type": "code",
   "execution_count": null,
   "metadata": {},
   "outputs": [],
   "source": [
    "df = df[~df.isin(an3)].dropna()"
   ]
  },
  {
   "attachments": {},
   "cell_type": "markdown",
   "metadata": {},
   "source": [
    "# Data Transformation (Feature Engineering)"
   ]
  },
  {
   "attachments": {},
   "cell_type": "markdown",
   "metadata": {},
   "source": [
    "## Mengubah Data Type"
   ]
  },
  {
   "cell_type": "code",
   "execution_count": null,
   "metadata": {},
   "outputs": [],
   "source": [
    "df['tgl_donasi'] = pd.to_datetime(df['tgl_donasi'])\n",
    "df['nominal'] = df['nominal'].astype('int64')\n",
    "df.info()"
   ]
  },
  {
   "attachments": {},
   "cell_type": "markdown",
   "metadata": {},
   "source": [
    "## Menambah kolom tahun dan bulan"
   ]
  },
  {
   "cell_type": "code",
   "execution_count": null,
   "metadata": {},
   "outputs": [],
   "source": [
    "df['tahun'] = df['tgl_donasi'].dt.year\n",
    "df['bulan'] = df['tgl_donasi'].dt.month\n",
    "df.head()"
   ]
  },
  {
   "attachments": {},
   "cell_type": "markdown",
   "metadata": {},
   "source": [
    "## Menambah kolom jumlah donasi untuk setiap donatur"
   ]
  },
  {
   "cell_type": "code",
   "execution_count": null,
   "metadata": {},
   "outputs": [],
   "source": [
    "df['jmlh_donasi'] = df['donatur_id'].map(df['donatur_id'].value_counts())\n",
    "df.head()"
   ]
  },
  {
   "attachments": {},
   "cell_type": "markdown",
   "metadata": {},
   "source": [
    "## Data Filter untuk 'tipe_transaksi' success dan not succes"
   ]
  },
  {
   "cell_type": "code",
   "execution_count": null,
   "metadata": {},
   "outputs": [],
   "source": [
    "df_success = df.copy()\n",
    "df_success = df_success[df_success['status_transaksi'] == 'success']\n",
    "df_success.head()"
   ]
  },
  {
   "cell_type": "code",
   "execution_count": null,
   "metadata": {},
   "outputs": [],
   "source": [
    "df_not_success = df.copy()\n",
    "df_not_success = df_not_success[df_not_success['status_transaksi'] != 'success']\n",
    "df_not_success.head()"
   ]
  },
  {
   "attachments": {},
   "cell_type": "markdown",
   "metadata": {},
   "source": [
    "## Membuat data pertahun dan menambah kolom jumlah transaksi donasi pertahun"
   ]
  },
  {
   "cell_type": "code",
   "execution_count": null,
   "metadata": {},
   "outputs": [],
   "source": [
    "df.tahun.unique()"
   ]
  },
  {
   "cell_type": "code",
   "execution_count": null,
   "metadata": {},
   "outputs": [],
   "source": [
    "tahun = df.tahun.unique()\n",
    "d = {}\n",
    "for x in tahun:\n",
    "    d[\"th{0}\".format(x)] = df.loc[df['tahun']== x].copy()\n",
    "    d[\"th{0}\".format(x)]['donasi_tahunini'] = d[\"th{0}\".format(x)]['donatur_id'].map(d[\"th{0}\".format(x)]['donatur_id'].value_counts())"
   ]
  },
  {
   "cell_type": "code",
   "execution_count": null,
   "metadata": {},
   "outputs": [],
   "source": [
    "display(d['th2019'].head())"
   ]
  },
  {
   "cell_type": "code",
   "execution_count": null,
   "metadata": {},
   "outputs": [],
   "source": [
    "df_process = pd.concat([d['th2019'],d['th2020'],d['th2021'],d['th2022'],d['th2023']], ignore_index=True)\n",
    "df_process['tgl_donasi'].agg(['min','max'])"
   ]
  },
  {
   "attachments": {},
   "cell_type": "markdown",
   "metadata": {},
   "source": [
    "# Analysis"
   ]
  },
  {
   "attachments": {},
   "cell_type": "markdown",
   "metadata": {},
   "source": [
    "## Jumlah donatur belum berhasil transaksi"
   ]
  },
  {
   "cell_type": "code",
   "execution_count": null,
   "metadata": {},
   "outputs": [],
   "source": [
    "df_process.groupby('status_transaksi')['donatur_id'].nunique().reset_index()"
   ]
  },
  {
   "cell_type": "code",
   "execution_count": null,
   "metadata": {},
   "outputs": [],
   "source": [
    "sns.countplot(data=df_process, x='status_transaksi')"
   ]
  },
  {
   "cell_type": "code",
   "execution_count": null,
   "metadata": {},
   "outputs": [],
   "source": [
    "# donatur yang transaksinya pernah gagal\n",
    "donatur_successfailed = np.intersect1d(df_success.donatur_id, df_not_success.donatur_id)\n",
    "donatur_successfailed.size"
   ]
  },
  {
   "cell_type": "code",
   "execution_count": null,
   "metadata": {},
   "outputs": [],
   "source": [
    "# donatur yang transaksinya selalu berhasil\n",
    "donatur_success = np.setxor1d(df_success.donatur_id, donatur_successfailed)\n",
    "donatur_success.size"
   ]
  },
  {
   "cell_type": "code",
   "execution_count": null,
   "metadata": {},
   "outputs": [],
   "source": [
    "# donatur yang transaksinya belum pernah berhasil\n",
    "donatur_failed = np.setxor1d(df_not_success.donatur_id, donatur_successfailed)\n",
    "donatur_failed.size"
   ]
  },
  {
   "cell_type": "code",
   "execution_count": null,
   "metadata": {},
   "outputs": [],
   "source": [
    "donatur_failed"
   ]
  },
  {
   "cell_type": "code",
   "execution_count": null,
   "metadata": {},
   "outputs": [],
   "source": [
    "df_donatur_failed = df_process.loc[df_process['donatur_id'].isin(donatur_failed)]\n",
    "df_donatur_failed"
   ]
  },
  {
   "attachments": {},
   "cell_type": "markdown",
   "metadata": {},
   "source": [
    "### Results"
   ]
  },
  {
   "cell_type": "code",
   "execution_count": null,
   "metadata": {},
   "outputs": [],
   "source": [
    "transaksi_donatur = pd.DataFrame({'jumlah_donatur': [donatur_success.size, donatur_successfailed.size , donatur_failed.size]},\n",
    "                                index=['donatur_success', 'donatur_successfailed', 'donatur_failed'])\n",
    "transaksi_donatur"
   ]
  },
  {
   "cell_type": "code",
   "execution_count": null,
   "metadata": {},
   "outputs": [],
   "source": [
    "colors = ['#99ff99','#66b3ff','#ff9999']\n",
    "transaksi_donatur.plot(kind='pie',y='jumlah_donatur', colors=colors, autopct='%.0f%%')"
   ]
  },
  {
   "cell_type": "code",
   "execution_count": null,
   "metadata": {},
   "outputs": [],
   "source": [
    "df_donatur_failed.groupby(['tahun'])['donasi_id'].count()"
   ]
  },
  {
   "cell_type": "code",
   "execution_count": null,
   "metadata": {},
   "outputs": [],
   "source": [
    "df_donatur_failed.groupby(['platform'])['donasi_id'].count()"
   ]
  },
  {
   "cell_type": "code",
   "execution_count": null,
   "metadata": {},
   "outputs": [],
   "source": [
    "df_donatur_failed.groupby(['tipe_transaksi'])['donasi_id'].count()"
   ]
  },
  {
   "cell_type": "code",
   "execution_count": null,
   "metadata": {},
   "outputs": [],
   "source": [
    "df_process.groupby(['platform'])['donasi_id'].count()"
   ]
  },
  {
   "attachments": {},
   "cell_type": "markdown",
   "metadata": {},
   "source": [
    "### Insight\n",
    "\n",
    "`Donasi dengan interaksi secara langsung baik dilakukan pada Offline ataupun secara WA terbukti tidak mengalami kegagalan, sedangkan melalui platform online terdapat banyak transaksi donasi yang gagal. Penyebab gagalnya transaksi/donasi online bisa jadi terdapat error pada sistem ataupun upaya dari donatur sendiri. Upaya yang dilakukan bisa dengan selalu memantau sistem onlinenya ataupun melakukan perbaikan pada sistem online`\n"
   ]
  },
  {
   "attachments": {},
   "cell_type": "markdown",
   "metadata": {},
   "source": [
    "## Donatur pertama kali donasi"
   ]
  },
  {
   "cell_type": "code",
   "execution_count": null,
   "metadata": {},
   "outputs": [],
   "source": [
    "df_first_donation = df_process.copy()\n",
    "df_first_donation.drop_duplicates(subset='donatur_id', keep='first', inplace=True)"
   ]
  },
  {
   "cell_type": "code",
   "execution_count": null,
   "metadata": {},
   "outputs": [],
   "source": [
    "donatur_baru_pertahun = df_first_donation.groupby('tahun').donatur_id.count().reset_index()\n",
    "donatur_baru_pertahun"
   ]
  },
  {
   "cell_type": "code",
   "execution_count": null,
   "metadata": {},
   "outputs": [],
   "source": [
    "sns.countplot(x ='tahun', data=df_first_donation)"
   ]
  },
  {
   "cell_type": "code",
   "execution_count": null,
   "metadata": {},
   "outputs": [],
   "source": [
    "donatur_baru_perbulan = df_first_donation.groupby(['tahun','bulan'])['donatur_id'].count().reset_index()"
   ]
  },
  {
   "cell_type": "code",
   "execution_count": null,
   "metadata": {},
   "outputs": [],
   "source": [
    "donatur_baru_perbulan_pivot = donatur_baru_perbulan.pivot(index='bulan', columns='tahun', values='donatur_id')\n",
    "donatur_baru_perbulan_pivot"
   ]
  },
  {
   "attachments": {},
   "cell_type": "markdown",
   "metadata": {},
   "source": [
    "### Results"
   ]
  },
  {
   "cell_type": "code",
   "execution_count": null,
   "metadata": {},
   "outputs": [],
   "source": [
    "# Donatur pertama kali donasi = Bertambahnya jumlah donatur setiap tahun\n",
    "donatur_baru_pertahun['tahun'] = donatur_baru_pertahun.tahun.astype(str)\n",
    "sns.lineplot(data=donatur_baru_pertahun, x=\"tahun\", y=\"donatur_id\", marker='.', markerfacecolor='limegreen', markersize=20).set(title='Jumlah Donatur Baru', xlabel='Tahun', ylabel='Donatur')"
   ]
  },
  {
   "cell_type": "code",
   "execution_count": null,
   "metadata": {},
   "outputs": [],
   "source": [
    "donatur_baru_pertahun['growth'] = np.round(donatur_baru_pertahun['donatur_id'].pct_change()*100,2)\n",
    "#donatur_baru_pertahun.drop(donatur_baru_pertahun.iloc[0])\n",
    "donatur_baru_pertahun"
   ]
  },
  {
   "cell_type": "code",
   "execution_count": null,
   "metadata": {},
   "outputs": [],
   "source": [
    "print('growth rate 2019-2022: ',np.mean([27.28,-13.92,17.78]))"
   ]
  },
  {
   "cell_type": "code",
   "execution_count": null,
   "metadata": {},
   "outputs": [],
   "source": [
    "donatur_baru_perbulan_pivot.plot(kind='bar')"
   ]
  },
  {
   "cell_type": "code",
   "execution_count": null,
   "metadata": {},
   "outputs": [],
   "source": [
    "donatur_baru_platform = df_first_donation.groupby('platform')['donatur_id'].count().reset_index().sort_values(by='donatur_id',ascending=False)\n",
    "donatur_baru_platform"
   ]
  },
  {
   "cell_type": "code",
   "execution_count": null,
   "metadata": {},
   "outputs": [],
   "source": [
    "ax = sns.countplot(x='platform', data=df_first_donation)\n",
    "_ = ax.set_xticklabels(ax.get_xticklabels(), rotation=40, ha=\"right\")"
   ]
  },
  {
   "attachments": {},
   "cell_type": "markdown",
   "metadata": {},
   "source": [
    "### Insights\n",
    "\n",
    "`Berdasarkan data jumlah donatur pertama kali donasi atau disebut donatur baru setiap tahunnya mengalami rata-rata kenaikan 10.38%% dengan puncaknya pada bulan 4-5 yaitu bulan2 ramadhan dengan dominasi transaksi offline. Mizan amanah memiliki banyak ruang untuk improve melalui sistem online dengan memanfaatkan pada bulan2 ramadhan`"
   ]
  },
  {
   "attachments": {},
   "cell_type": "markdown",
   "metadata": {},
   "source": [
    "## Jumlah Donatur 1x transaksi pertahun"
   ]
  },
  {
   "cell_type": "code",
   "execution_count": null,
   "metadata": {},
   "outputs": [],
   "source": [
    "transaksi_1x_pertahun = df_process[df_process['donasi_tahunini']==1].groupby('tahun')['donatur_id'].nunique().reset_index()\n",
    "transaksi_1x_pertahun.columns = transaksi_1x_pertahun.columns.str.replace('donatur_id', 'transaksi_1x')\n",
    "transaksi_1x_pertahun"
   ]
  },
  {
   "cell_type": "code",
   "execution_count": null,
   "metadata": {},
   "outputs": [],
   "source": [
    "transaksi_1x_pertahun['transaksi_1x'].sum()"
   ]
  },
  {
   "cell_type": "code",
   "execution_count": null,
   "metadata": {},
   "outputs": [],
   "source": [
    "print (\"{:.0%}\".format(transaksi_1x_pertahun['transaksi_1x'].sum()/df_process['donatur_id'].nunique()))"
   ]
  },
  {
   "cell_type": "code",
   "execution_count": null,
   "metadata": {},
   "outputs": [],
   "source": [
    "transaksi_1x_perbulan = df_process[df_process['donasi_tahunini']==1].groupby(['tahun','bulan'])['donatur_id'].nunique().reset_index()\n",
    "transaksi_1x_perbulan.columns = transaksi_1x_perbulan.columns.str.replace('donatur_id', 'transaksi_1x')"
   ]
  },
  {
   "cell_type": "code",
   "execution_count": null,
   "metadata": {},
   "outputs": [],
   "source": [
    "transaksi_1x_perbulan_pivot = transaksi_1x_perbulan.pivot(index='bulan', columns='tahun', values='transaksi_1x')\n",
    "transaksi_1x_perbulan_pivot"
   ]
  },
  {
   "attachments": {},
   "cell_type": "markdown",
   "metadata": {},
   "source": [
    "### Results"
   ]
  },
  {
   "cell_type": "code",
   "execution_count": null,
   "metadata": {},
   "outputs": [],
   "source": [
    "sns.lineplot(x='tahun', y='transaksi_1x', data=transaksi_1x_pertahun)"
   ]
  },
  {
   "cell_type": "code",
   "execution_count": null,
   "metadata": {},
   "outputs": [],
   "source": [
    "transaksi_1x_pertahun['growth'] = np.round(transaksi_1x_pertahun['transaksi_1x'].pct_change()*100,2)\n",
    "transaksi_1x_pertahun"
   ]
  },
  {
   "cell_type": "code",
   "execution_count": null,
   "metadata": {},
   "outputs": [],
   "source": [
    "transaksi_1x_perbulan_pivot.plot(kind='bar')"
   ]
  },
  {
   "cell_type": "code",
   "execution_count": null,
   "metadata": {},
   "outputs": [],
   "source": [
    "transaksi_1x_2022 = df_process[(df_process['donasi_tahunini']==1) &\n",
    "           (df_process['tahun']==2022)].groupby('bulan')['donatur_id'].nunique().reset_index()\n",
    "transaksi_1x_2022['rate'] = np.round(transaksi_1x_2022['donatur_id'].pct_change()*100,2)\n",
    "transaksi_1x_2022"
   ]
  },
  {
   "cell_type": "code",
   "execution_count": null,
   "metadata": {},
   "outputs": [],
   "source": [
    "transaksi_1x_program = df_process[(df_process['donasi_tahunini']==1)].groupby('program')['donatur_id'].nunique().sort_values(ascending=False).reset_index()\n",
    "transaksi_1x_program['rate'] = (transaksi_1x_program['donatur_id']/transaksi_1x_program['donatur_id'].sum())*100\n",
    "transaksi_1x_program.iloc[:10]"
   ]
  },
  {
   "cell_type": "code",
   "execution_count": null,
   "metadata": {},
   "outputs": [],
   "source": [
    "df_process[(df_process['donasi_tahunini']==1) &\n",
    "           (df_process['tahun']==2022)&\n",
    "           (df_process['bulan']==4)].groupby('program')['donatur_id'].nunique().sort_values(ascending=False).iloc[:10]"
   ]
  },
  {
   "cell_type": "code",
   "execution_count": null,
   "metadata": {},
   "outputs": [],
   "source": [
    "df_process[(df_process['program']=='Berbagi Baju Lebaran')].groupby(['tahun','bulan'])['donatur_id'].nunique()"
   ]
  },
  {
   "attachments": {},
   "cell_type": "markdown",
   "metadata": {},
   "source": [
    "### Insights\n",
    "`Setiap tahunnya jumlah donatur 1x transaksi terus mengalami peningkatan dengan pola yang sama yaitu bulan 4-5 (bulan ramadhan) merupakan transaksi yang paling banyak dan tahun 2022 bulan 4 merupakan kenaikan paling signifikan sebesar 400.71%. Mizan amanah bisa memanfaatkan program ramadhan unggulannya seperti pada tahun 2022 bulan 4 untuk mencari donatur melakukan donasi`"
   ]
  },
  {
   "attachments": {},
   "cell_type": "markdown",
   "metadata": {},
   "source": [
    "## Jumlah Donatur 2x transaksi pertahun"
   ]
  },
  {
   "cell_type": "code",
   "execution_count": null,
   "metadata": {},
   "outputs": [],
   "source": [
    "#donatur konsisten 2x pertahun\n",
    "val_2x = reduce(np.intersect1d, (d['th2019'][d['th2019']['donasi_tahunini'] >= 2].donatur_id, \n",
    "                              d['th2020'][d['th2020']['donasi_tahunini'] >= 2].donatur_id, \n",
    "                              d['th2021'][d['th2021']['donasi_tahunini'] >= 2].donatur_id,\n",
    "                              d['th2022'][d['th2022']['donasi_tahunini'] >= 2].donatur_id,\n",
    "                              d['th2023'][d['th2023']['donasi_tahunini'] >= 2].donatur_id,))\n",
    "val_2x.size"
   ]
  },
  {
   "cell_type": "code",
   "execution_count": null,
   "metadata": {},
   "outputs": [],
   "source": [
    "transaksi_2x_pertahun = df_process[df_process['donasi_tahunini']==2].groupby('tahun')['donatur_id'].nunique().reset_index()\n",
    "transaksi_2x_pertahun.columns = transaksi_2x_pertahun.columns.str.replace('donatur_id', 'transaksi_2x')\n",
    "transaksi_2x_pertahun"
   ]
  },
  {
   "cell_type": "code",
   "execution_count": null,
   "metadata": {},
   "outputs": [],
   "source": [
    "transaksi_2x_perbulan = df_process[df_process['donasi_tahunini']==2].groupby(['tahun','bulan'])['donatur_id'].nunique().reset_index()\n",
    "transaksi_2x_perbulan.columns = transaksi_2x_perbulan.columns.str.replace('donatur_id', 'transaksi_1x')"
   ]
  },
  {
   "cell_type": "code",
   "execution_count": null,
   "metadata": {},
   "outputs": [],
   "source": [
    "transaksi_2x_perbulan_pivot = transaksi_2x_perbulan.pivot(index='bulan', columns='tahun', values='transaksi_1x')\n",
    "transaksi_2x_perbulan_pivot"
   ]
  },
  {
   "attachments": {},
   "cell_type": "markdown",
   "metadata": {},
   "source": [
    "### Results"
   ]
  },
  {
   "cell_type": "code",
   "execution_count": null,
   "metadata": {},
   "outputs": [],
   "source": [
    "sns.lineplot(x='tahun', y='transaksi_2x', data=transaksi_2x_pertahun)"
   ]
  },
  {
   "cell_type": "code",
   "execution_count": null,
   "metadata": {},
   "outputs": [],
   "source": [
    "transaksi_2x_pertahun['growth'] = np.round(transaksi_2x_pertahun['transaksi_2x'].pct_change()*100,2)\n",
    "transaksi_2x_pertahun"
   ]
  },
  {
   "cell_type": "code",
   "execution_count": null,
   "metadata": {},
   "outputs": [],
   "source": [
    "transaksi_2x_pertahun['transaksi_2x'].sum()"
   ]
  },
  {
   "cell_type": "code",
   "execution_count": null,
   "metadata": {},
   "outputs": [],
   "source": [
    "print (\"{:.0%}\".format(transaksi_2x_pertahun['transaksi_2x'].sum()/df_process['donatur_id'].nunique()))"
   ]
  },
  {
   "cell_type": "code",
   "execution_count": null,
   "metadata": {},
   "outputs": [],
   "source": [
    "transaksi_2x_perbulan_pivot.plot(kind='bar')"
   ]
  },
  {
   "cell_type": "code",
   "execution_count": null,
   "metadata": {},
   "outputs": [],
   "source": [
    "transaksi_2x_program = df_process[(df_process['donasi_tahunini']==2)].groupby('program')['donatur_id'].nunique().sort_values(ascending=False).reset_index()\n",
    "transaksi_2x_program['rate'] = (transaksi_2x_program['donatur_id']/transaksi_2x_program['donatur_id'].sum())*100\n",
    "transaksi_2x_program.iloc[:10]"
   ]
  },
  {
   "cell_type": "code",
   "execution_count": null,
   "metadata": {},
   "outputs": [],
   "source": [
    "df_process[(df_process['donasi_tahunini']==2) &\n",
    "           (df_process['bulan']==5)].groupby('program')['donatur_id'].nunique().sort_values(ascending=False).iloc[:10]"
   ]
  },
  {
   "cell_type": "code",
   "execution_count": null,
   "metadata": {},
   "outputs": [],
   "source": [
    "df_process[(df_process['donasi_tahunini']==2)].groupby('program')['donatur_id'].nunique().sort_values(ascending=False).iloc[:10]"
   ]
  },
  {
   "attachments": {},
   "cell_type": "markdown",
   "metadata": {},
   "source": [
    "### Insights\n",
    "`Sama seperti transaksi 1x, Mizan amanah bisa berfokus pada bulan 4-5 untuk menambah transaksi 2x dengan program ramadhan, zakat, dan sedekah yatim` "
   ]
  },
  {
   "attachments": {},
   "cell_type": "markdown",
   "metadata": {},
   "source": [
    "## Donatur habit 12x pertahun"
   ]
  },
  {
   "cell_type": "code",
   "execution_count": null,
   "metadata": {},
   "outputs": [],
   "source": [
    "# donatur yg konsisten 12x transaksi setiap tahunnya\n",
    "val_12x = reduce(np.intersect1d, (d['th2019'][d['th2019']['donasi_tahunini'] >= 12].donatur_id, \n",
    "                              d['th2020'][d['th2020']['donasi_tahunini'] >= 12].donatur_id, \n",
    "                              d['th2021'][d['th2021']['donasi_tahunini'] >= 12].donatur_id,\n",
    "                              d['th2022'][d['th2022']['donasi_tahunini'] >= 12].donatur_id,\n",
    "                              d['th2023'][d['th2023']['donasi_tahunini'] >= 12].donatur_id,))\n",
    "val_12x"
   ]
  },
  {
   "cell_type": "code",
   "execution_count": null,
   "metadata": {},
   "outputs": [],
   "source": [
    "df_process[df_process['donatur_id'] == '7a711fe2bd474cffcd660c64b05e4a30']"
   ]
  },
  {
   "cell_type": "code",
   "execution_count": null,
   "metadata": {},
   "outputs": [],
   "source": [
    "transaksi_12x_pertahun = df_process[df_process['donasi_tahunini']>=12].groupby('tahun')['donatur_id'].nunique().reset_index()\n",
    "transaksi_12x_pertahun.columns = transaksi_12x_pertahun.columns.str.replace('donatur_id', 'transaksi_12x')\n",
    "transaksi_12x_pertahun"
   ]
  },
  {
   "cell_type": "code",
   "execution_count": null,
   "metadata": {},
   "outputs": [],
   "source": [
    "transaksi_12x_perbulan = df_process[df_process['donasi_tahunini']>=12].groupby(['tahun','bulan'])['donatur_id'].nunique().reset_index()\n",
    "transaksi_12x_perbulan.columns = transaksi_12x_perbulan.columns.str.replace('donatur_id', 'transaksi_12x')"
   ]
  },
  {
   "cell_type": "code",
   "execution_count": null,
   "metadata": {},
   "outputs": [],
   "source": [
    "transaksi_12x_perbulan_pivot = transaksi_12x_perbulan.pivot(index='bulan', columns='tahun', values='transaksi_12x')\n",
    "transaksi_12x_perbulan_pivot"
   ]
  },
  {
   "attachments": {},
   "cell_type": "markdown",
   "metadata": {},
   "source": [
    "### Results"
   ]
  },
  {
   "cell_type": "code",
   "execution_count": null,
   "metadata": {},
   "outputs": [],
   "source": [
    "sns.lineplot(x='tahun', y='transaksi_12x', data=transaksi_12x_pertahun)"
   ]
  },
  {
   "cell_type": "code",
   "execution_count": null,
   "metadata": {},
   "outputs": [],
   "source": [
    "transaksi_12x_pertahun['growth'] = np.round(transaksi_12x_pertahun['transaksi_12x'].pct_change()*100,2)\n",
    "transaksi_12x_pertahun"
   ]
  },
  {
   "cell_type": "code",
   "execution_count": null,
   "metadata": {},
   "outputs": [],
   "source": [
    "transaksi_12x_pertahun['transaksi_12x'].sum()"
   ]
  },
  {
   "cell_type": "code",
   "execution_count": null,
   "metadata": {},
   "outputs": [],
   "source": [
    "print (\"{:.0%}\".format(transaksi_12x_pertahun['transaksi_12x'].sum()/df_process['donatur_id'].nunique()))"
   ]
  },
  {
   "cell_type": "code",
   "execution_count": null,
   "metadata": {},
   "outputs": [],
   "source": [
    "transaksi_12x_perbulan_pivot.plot(kind='bar')"
   ]
  },
  {
   "cell_type": "code",
   "execution_count": null,
   "metadata": {},
   "outputs": [],
   "source": [
    "transaksi_12x_program = df_process[(df_process['donasi_tahunini']>=12)].groupby('program')['donatur_id'].nunique().sort_values(ascending=False).reset_index()\n",
    "transaksi_12x_program['rate'] = (transaksi_12x_program['donatur_id']/transaksi_12x_program['donatur_id'].sum())*100\n",
    "transaksi_12x_program.iloc[:10]"
   ]
  },
  {
   "cell_type": "code",
   "execution_count": null,
   "metadata": {},
   "outputs": [],
   "source": [
    "df_process[df_process['donasi_tahunini']>=12].groupby(['bulan'])['donatur_id'].nunique().plot(kind='bar')"
   ]
  },
  {
   "cell_type": "code",
   "execution_count": null,
   "metadata": {},
   "outputs": [],
   "source": [
    "df_process[(df_process['donasi_tahunini']>=12) &\n",
    "           (df_process['tahun']==2019)].groupby('akad')['donatur_id'].nunique().sort_values(ascending=False).reset_index().iloc[:10]"
   ]
  },
  {
   "cell_type": "code",
   "execution_count": null,
   "metadata": {},
   "outputs": [],
   "source": [
    "df_process[(df_process['donasi_tahunini']>=12) &\n",
    "           (df_process['tahun']==2020)].groupby('akad')['donatur_id'].nunique().sort_values(ascending=False).reset_index().iloc[:10]"
   ]
  },
  {
   "cell_type": "code",
   "execution_count": null,
   "metadata": {},
   "outputs": [],
   "source": [
    "df_process[(df_process['donasi_tahunini']>=12)].groupby('program')['donatur_id'].nunique().sort_values(ascending=False).reset_index().iloc[:10]"
   ]
  },
  {
   "attachments": {},
   "cell_type": "markdown",
   "metadata": {},
   "source": [
    "### Insights\n",
    "\n",
    "`Pertumbuhan signifikan transaksi 12x dari 2019 ke 2020 ternyata pada tahun itu baru dibuat akad/program ramadhan sehingga momen pada bulan 4-5 (bulan ramadhan) adalah momen yang paling tepat untuk menambah donatur atau transaksi. Dari pola data perbulan pun terlihat setiap bulannnya stabil, terlihat dari program bahwa donatur 12x ini selain program yatim dan lebaran juga banyak di program zakat dan sedekah.`"
   ]
  },
  {
   "attachments": {},
   "cell_type": "markdown",
   "metadata": {},
   "source": [
    "## Donatur 3x > donasi < 12x pertahun"
   ]
  },
  {
   "cell_type": "code",
   "execution_count": null,
   "metadata": {},
   "outputs": [],
   "source": [
    "# donatur konsisten setiap tahunnya dengan rentang 3x > donasi < 12x\n",
    "val_3x12x = reduce(np.intersect1d, (d['th2019'][(d['th2019']['donasi_tahunini'] >= 3) & (d['th2019']['donasi_tahunini'] < 12)].donatur_id, \n",
    "                              d['th2020'][(d['th2020']['donasi_tahunini'] >= 3) & (d['th2020']['donasi_tahunini'] < 12)].donatur_id, \n",
    "                              d['th2021'][(d['th2021']['donasi_tahunini'] >= 3) & (d['th2021']['donasi_tahunini'] < 12)].donatur_id,\n",
    "                              d['th2022'][(d['th2022']['donasi_tahunini'] >= 3) & (d['th2022']['donasi_tahunini'] < 12)].donatur_id,\n",
    "                              d['th2023'][(d['th2023']['donasi_tahunini'] >= 3) & (d['th2023']['donasi_tahunini'] < 12)].donatur_id))\n",
    "val_3x12x"
   ]
  },
  {
   "cell_type": "code",
   "execution_count": null,
   "metadata": {},
   "outputs": [],
   "source": [
    "transaksi_3x12x_pertahun = df_process[(df_process['donasi_tahunini']>=3) & (df_process['donasi_tahunini']<12)].groupby('tahun')['donatur_id'].nunique().reset_index()\n",
    "transaksi_3x12x_pertahun.columns = transaksi_3x12x_pertahun.columns.str.replace('donatur_id', 'transaksi_3x12x')\n",
    "transaksi_3x12x_pertahun"
   ]
  },
  {
   "cell_type": "code",
   "execution_count": null,
   "metadata": {},
   "outputs": [],
   "source": [
    "transaksi_3x12x_perbulan = df_process[(df_process['donasi_tahunini']>=3) & (df_process['donasi_tahunini']<12)].groupby(['tahun','bulan'])['donatur_id'].nunique().reset_index()\n",
    "transaksi_3x12x_perbulan.columns = transaksi_12x_perbulan.columns.str.replace('donatur_id', 'transaksi_3x12x')"
   ]
  },
  {
   "cell_type": "code",
   "execution_count": null,
   "metadata": {},
   "outputs": [],
   "source": [
    "transaksi_3x12x_perbulan_pivot = transaksi_3x12x_perbulan.pivot(index='bulan', columns='tahun', values='transaksi_12x')\n",
    "transaksi_3x12x_perbulan_pivot"
   ]
  },
  {
   "attachments": {},
   "cell_type": "markdown",
   "metadata": {},
   "source": [
    "### Results"
   ]
  },
  {
   "cell_type": "code",
   "execution_count": null,
   "metadata": {},
   "outputs": [],
   "source": [
    "sns.lineplot(x='tahun',y='transaksi_3x12x',data=transaksi_3x12x_pertahun)"
   ]
  },
  {
   "cell_type": "code",
   "execution_count": null,
   "metadata": {},
   "outputs": [],
   "source": [
    "transaksi_3x12x_pertahun['growth'] = np.round(transaksi_3x12x_pertahun['transaksi_3x12x'].pct_change()*100,2)\n",
    "transaksi_3x12x_pertahun"
   ]
  },
  {
   "cell_type": "code",
   "execution_count": null,
   "metadata": {},
   "outputs": [],
   "source": [
    "transaksi_3x12x_pertahun['transaksi_3x12x'].sum()"
   ]
  },
  {
   "cell_type": "code",
   "execution_count": null,
   "metadata": {},
   "outputs": [],
   "source": [
    "print (\"{:.0%}\".format(transaksi_3x12x_pertahun['transaksi_3x12x'].sum()/df_process['donatur_id'].nunique()))"
   ]
  },
  {
   "cell_type": "code",
   "execution_count": null,
   "metadata": {},
   "outputs": [],
   "source": [
    "transaksi_3x12x_perbulan_pivot.plot(kind='bar')"
   ]
  },
  {
   "cell_type": "code",
   "execution_count": null,
   "metadata": {},
   "outputs": [],
   "source": [
    "df_process[(df_process['donasi_tahunini']>=3) & (df_process['donasi_tahunini']<12)].groupby(['bulan'])['donatur_id'].nunique().plot(kind='bar')"
   ]
  },
  {
   "cell_type": "code",
   "execution_count": null,
   "metadata": {},
   "outputs": [],
   "source": [
    "transaksi_3x12x_program = df_process[(df_process['donasi_tahunini']>=3) &\n",
    "           (df_process['donasi_tahunini']<12)].groupby('program')['donatur_id'].nunique().sort_values(ascending=False).reset_index()\n",
    "transaksi_3x12x_program['rate'] = (transaksi_3x12x_program['donatur_id']/transaksi_3x12x_program['donatur_id'].sum())*100\n",
    "transaksi_3x12x_program.iloc[:10]"
   ]
  },
  {
   "attachments": {},
   "cell_type": "markdown",
   "metadata": {},
   "source": [
    "### Insights \n",
    "\n",
    "`Bulan 4-5 (bulan ramadhan) memang sebagai puncak donasi oleh para donatur 3x-11x, tetapi pola data perbulan untuk setiap bulannya sudah mulai berimbang. Terlihat dari program transaksi 3x-11x terdapat program tunaikan zakat penghasilan`"
   ]
  },
  {
   "attachments": {},
   "cell_type": "markdown",
   "metadata": {},
   "source": [
    "## Summary"
   ]
  },
  {
   "cell_type": "code",
   "execution_count": null,
   "metadata": {},
   "outputs": [],
   "source": [
    "jumlah_transaksi = transaksi_1x_pertahun.merge(transaksi_2x_pertahun, on='tahun').merge(transaksi_3x12x_pertahun, on='tahun').merge(transaksi_12x_pertahun, on='tahun')\n",
    "jumlah_transaksi = jumlah_transaksi.drop(columns=['growth_x', 'growth_y'])\n",
    "jumlah_transaksi"
   ]
  },
  {
   "cell_type": "code",
   "execution_count": null,
   "metadata": {},
   "outputs": [],
   "source": [
    "sns.barplot(data=jumlah_transaksi.melt(id_vars='tahun',\n",
    "                                  value_name='donatur', var_name='jumlah_transaksi'),\n",
    "            x='tahun', y='donatur', hue='jumlah_transaksi')"
   ]
  },
  {
   "cell_type": "code",
   "execution_count": null,
   "metadata": {},
   "outputs": [],
   "source": [
    "\n",
    "sns.barplot(data=jumlah_transaksi.melt(id_vars='tahun',\n",
    "                                  value_name='donatur', var_name='jumlah_transaksi'),\n",
    "            x='tahun', y='donatur', hue='jumlah_transaksi')"
   ]
  },
  {
   "attachments": {},
   "cell_type": "markdown",
   "metadata": {},
   "source": [
    "## Donatur Reguler pertahun"
   ]
  },
  {
   "cell_type": "code",
   "execution_count": null,
   "metadata": {},
   "outputs": [],
   "source": [
    "val_reguler = reduce(np.intersect1d, (d['th2019'].donatur_id, \n",
    "                              d['th2020'].donatur_id, \n",
    "                              d['th2021'].donatur_id,\n",
    "                              d['th2022'].donatur_id,\n",
    "                              d['th2023'].donatur_id))\n",
    "val_reguler.size"
   ]
  },
  {
   "cell_type": "code",
   "execution_count": null,
   "metadata": {},
   "outputs": [],
   "source": [
    "val_reguler2 = reduce(np.intersect1d, (d['th2019'].donatur_id, \n",
    "                              d['th2020'].donatur_id, \n",
    "                              d['th2021'].donatur_id,\n",
    "                              d['th2022'].donatur_id))\n",
    "val_reguler2.size"
   ]
  },
  {
   "cell_type": "code",
   "execution_count": null,
   "metadata": {},
   "outputs": [],
   "source": [
    "df_donatur_reguler = df_process.loc[df_process['donatur_id'].isin(val_reguler)]\n",
    "df_donatur_reguler"
   ]
  },
  {
   "cell_type": "code",
   "execution_count": null,
   "metadata": {},
   "outputs": [],
   "source": [
    "df_donatur_reguler['donatur_id'].nunique()"
   ]
  },
  {
   "attachments": {},
   "cell_type": "markdown",
   "metadata": {},
   "source": [
    "### Results"
   ]
  },
  {
   "cell_type": "code",
   "execution_count": null,
   "metadata": {},
   "outputs": [],
   "source": [
    "donasidonatur_reguler_perbulan = df_donatur_reguler.groupby(['tahun','bulan'])['donasi_id'].count().reset_index()\n",
    "donasidonatur_reguler_perbulan_pivot = donasidonatur_reguler_perbulan.pivot(index='bulan', columns='tahun', values='donasi_id')\n",
    "donasidonatur_reguler_perbulan_pivot"
   ]
  },
  {
   "cell_type": "code",
   "execution_count": null,
   "metadata": {},
   "outputs": [],
   "source": [
    "df_donatur_reguler['donatur_id'].nunique()"
   ]
  },
  {
   "cell_type": "code",
   "execution_count": null,
   "metadata": {},
   "outputs": [],
   "source": [
    "print (\"{:.2%}\".format(df_donatur_reguler['donatur_id'].nunique()/df_process['donatur_id'].nunique()))"
   ]
  },
  {
   "cell_type": "code",
   "execution_count": null,
   "metadata": {},
   "outputs": [],
   "source": [
    "donasidonatur_reguler_perbulan_pivot.plot(kind='bar')"
   ]
  },
  {
   "cell_type": "code",
   "execution_count": null,
   "metadata": {},
   "outputs": [],
   "source": [
    "donatur_reguler_perbulan = df_donatur_reguler.groupby(['tahun','bulan'])['donatur_id'].nunique().reset_index()\n",
    "donatur_reguler_perbulan_pivot = donatur_reguler_perbulan.pivot(index='bulan', columns='tahun', values='donatur_id')\n",
    "donatur_reguler_perbulan_pivot"
   ]
  },
  {
   "cell_type": "code",
   "execution_count": null,
   "metadata": {},
   "outputs": [],
   "source": [
    "donatur_reguler_perbulan_pivot.plot(kind='bar')"
   ]
  },
  {
   "cell_type": "code",
   "execution_count": null,
   "metadata": {},
   "outputs": [],
   "source": [
    "df_donatur_reguler.groupby(['bulan'])['donatur_id'].nunique().reset_index().plot()"
   ]
  },
  {
   "cell_type": "code",
   "execution_count": null,
   "metadata": {},
   "outputs": [],
   "source": [
    "reguler_2019 = df_donatur_reguler[(df_donatur_reguler['tahun']==2019)].groupby('program')['donatur_id'].nunique().sort_values(ascending=False).reset_index()\n",
    "reguler_2019['rate'] = (reguler_2019['donatur_id']/reguler_2019['donatur_id'].sum())*100\n",
    "reguler_2019.iloc[:10]"
   ]
  },
  {
   "cell_type": "code",
   "execution_count": null,
   "metadata": {},
   "outputs": [],
   "source": [
    "reguler = df_donatur_reguler.groupby('program')['donatur_id'].nunique().sort_values(ascending=False).reset_index()\n",
    "reguler['rate'] = (reguler['donatur_id']/reguler['donatur_id'].sum())*100\n",
    "reguler.iloc[:10]"
   ]
  },
  {
   "cell_type": "code",
   "execution_count": null,
   "metadata": {},
   "outputs": [],
   "source": [
    "donatur_reguler_akad = df_donatur_reguler.groupby('akad')['donatur_id'].nunique().sort_values(ascending=False).iloc[:10].reset_index()\n",
    "donatur_reguler_akad['rate'] = np.round(donatur_reguler_akad['donatur_id']/df_donatur_reguler['donatur_id'].nunique()*100,2)\n",
    "donatur_reguler_akad"
   ]
  },
  {
   "cell_type": "code",
   "execution_count": null,
   "metadata": {},
   "outputs": [],
   "source": [
    "donatur_all_akad = df_process.groupby('akad')['donatur_id'].nunique().sort_values(ascending=False).iloc[:10].reset_index()\n",
    "donatur_all_akad['rate'] = np.round(donatur_all_akad['donatur_id']/df_process['donatur_id'].nunique()*100,2)\n",
    "donatur_all_akad"
   ]
  },
  {
   "cell_type": "code",
   "execution_count": null,
   "metadata": {},
   "outputs": [],
   "source": [
    "df_process.groupby('program')['donatur_id'].nunique().sort_values(ascending=False).iloc[:10].reset_index()"
   ]
  },
  {
   "cell_type": "code",
   "execution_count": null,
   "metadata": {},
   "outputs": [],
   "source": [
    "df_donatur_reguler.groupby('donatur_id').agg({'donasi_id':'count',\n",
    "                                              'nominal':'sum'}).sort_values(by='donasi_id',ascending=False)"
   ]
  },
  {
   "attachments": {},
   "cell_type": "markdown",
   "metadata": {},
   "source": [
    "### Insights\n",
    "\n",
    "`Donatur reguler juga tidak lepas dari momen ramadhan dimana donasi banyak dilakukan. Namun ketika ditelusuri melalui program donatur reguler banyak melakukan donasi pada program yatim dan zakat, Pada akad Terlihat dari 38% donatur reguler melakukan donasi pada akad zakat profesi dibandingkan keseluruhan donatur hanya 7%.`\n",
    "\n",
    "`Dapat disimpulkan untuk menambah donatur reguler yang konsisten berdonasi setiap tahun bisa berfokus pada program yatim dan zakat.`"
   ]
  },
  {
   "attachments": {},
   "cell_type": "markdown",
   "metadata": {},
   "source": [
    "# DF for dashboard"
   ]
  },
  {
   "cell_type": "code",
   "execution_count": null,
   "metadata": {},
   "outputs": [],
   "source": [
    "# tambah kolom first donasi\n",
    "val_first = df_first_donation['donasi_id']\n",
    "df_process['first_donasi'] = np.where(df_process['donasi_id'].isin(val_first), 'yes', 'no')\n",
    "\n",
    "# tambah kolom donatur reguler\n",
    "df_process['reguler'] = np.where(df_process['donatur_id'].isin(val_reguler), 'yes', 'no')\n"
   ]
  },
  {
   "cell_type": "code",
   "execution_count": null,
   "metadata": {},
   "outputs": [],
   "source": [
    "# tambah kolom kategori\n",
    "conditions = [df_process['donatur_id'].isin(donatur_success), df_process['donatur_id'].isin(donatur_successfailed), df_process['donatur_id'].isin(donatur_failed)]\n",
    "choices = ['success', 'success failed', 'failed']\n",
    "df_process['kategori'] = np.select(conditions, choices)"
   ]
  },
  {
   "cell_type": "code",
   "execution_count": null,
   "metadata": {},
   "outputs": [],
   "source": [
    "# to csv\n",
    "df_process.to_csv('dataset_RetentionProcess_2.csv', index=False)"
   ]
  },
  {
   "cell_type": "code",
   "execution_count": null,
   "metadata": {},
   "outputs": [],
   "source": [
    "df_process[df_process['status_transaksi']=='success']['nominal'].sum()"
   ]
  },
  {
   "attachments": {},
   "cell_type": "markdown",
   "metadata": {},
   "source": [
    "# Save Data"
   ]
  },
  {
   "cell_type": "code",
   "execution_count": null,
   "metadata": {},
   "outputs": [],
   "source": [
    "# from openpyxl import load_workbook\n",
    "\n",
    "# path = r\"dataset_RetentionAnalysis.xlsx\"\n",
    "\n",
    "# book = load_workbook(path)\n",
    "# writer = pd.ExcelWriter(path, engine = 'openpyxl')\n",
    "# writer.book = book\n",
    "\n",
    "# df_tahunan.to_excel(writer, sheet_name = 'df')\n",
    "# df_success.to_excel(writer, sheet_name = 'df_success')\n",
    "# df_not_success.to_excel(writer, sheet_name = 'df_not_success')\n",
    "# df_first_donation.to_excel(writer, sheet_name = 'df_first_donation')\n",
    "# df_donatur_reguler.to_excel(writer, sheet_name = 'df_donatur_reguler')\n",
    "# transaksi_donatur.to_excel(writer, sheet_name = 'transaksi_donatur')\n",
    "# jumlah_donatur_baru.to_excel(writer, sheet_name = 'jumlah_donatur_baru')\n",
    "# jumlah_transaksi.to_excel(writer, sheet_name = 'jumlah_transaksi')\n",
    "\n",
    "\n",
    "# writer.close()"
   ]
  }
 ],
 "metadata": {
  "kernelspec": {
   "display_name": "python-datascience",
   "language": "python",
   "name": "python3"
  },
  "language_info": {
   "codemirror_mode": {
    "name": "ipython",
    "version": 3
   },
   "file_extension": ".py",
   "mimetype": "text/x-python",
   "name": "python",
   "nbconvert_exporter": "python",
   "pygments_lexer": "ipython3",
   "version": "3.8.16"
  },
  "orig_nbformat": 4
 },
 "nbformat": 4,
 "nbformat_minor": 2
}
